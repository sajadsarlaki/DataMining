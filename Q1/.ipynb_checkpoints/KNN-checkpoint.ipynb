{
 "cells": [
  {
   "cell_type": "markdown",
   "metadata": {},
   "source": [
    "# Imports"
   ]
  },
  {
   "cell_type": "code",
   "execution_count": 20,
   "metadata": {},
   "outputs": [],
   "source": [
    "import pandas as pd\n",
    "import numpy as np\n",
    "import math\n",
    "import operator\n",
    "import numpy as np\n",
    "import matplotlib.pyplot as plt\n",
    "from sklearn.metrics import accuracy_score\n",
    "from sklearn.preprocessing import LabelEncoder\n",
    "from scipy.stats import mode\n",
    "\n",
    "# Importing data\n",
    "training_data = pd.read_csv(\"./segmentation/segmentation.Train.csv\");\n",
    "testing_data = pd.read_csv(\"./segmentation/segmentation.test.csv\");\n"
   ]
  },
  {
   "cell_type": "markdown",
   "metadata": {},
   "source": [
    "# Distance Calculator Functions"
   ]
  },
  {
   "cell_type": "code",
   "execution_count": 21,
   "metadata": {
    "code_folding": []
   },
   "outputs": [],
   "source": [
    "#Euclidean Distance\n",
    "def eucledian(p1,p2):\n",
    "    dist = np.sqrt(np.sum((p1-p2)**2))\n",
    "    return dist\n",
    "\n",
    "def cos_sim(p1, p2):\n",
    "    dot_product = np.dot(p1, p2) # x.y\n",
    "    norm_p1 = np.linalg.norm(p1) #|x|\n",
    "    norm_p2 = np.linalg.norm(p2) #|y|\n",
    "    return (1 - (dot_product / (norm_p1 * norm_p2)))"
   ]
  },
  {
   "cell_type": "markdown",
   "metadata": {},
   "source": [
    "# Main Function "
   ]
  },
  {
   "cell_type": "code",
   "execution_count": 22,
   "metadata": {
    "code_folding": [
     17
    ]
   },
   "outputs": [],
   "source": [
    "def predict(x_train, y , x_input, k, d_type):\n",
    "    op_labels = []\n",
    "\n",
    "    #Loop through the Datapoints to be classified\n",
    "    for item in x_input: \n",
    "        #Array to store distances\n",
    "        point_dist = []\n",
    "         \n",
    "        #Loop through each training Data\n",
    "        for j in range(len(x_train)): \n",
    "            distances =  eucledian(np.array(x_train[j,:]) , item) if d_type == 1 else cos_sim(np.array(x_train[j,:]) , item)\n",
    "            #Calculating the distance\n",
    "            point_dist.append(distances) \n",
    "        point_dist = np.array(point_dist) \n",
    "         \n",
    "        #Sorting the array while preserving the index\n",
    "        #Keeping the first K datapoints\n",
    "        dist = np.argsort(point_dist)[:k] \n",
    "         \n",
    "        #Labels of the K datapoints from above\n",
    "        labels = y[dist]\n",
    "         \n",
    "        #Majority voting\n",
    "        lab = mode(labels) \n",
    "        lab = lab.mode[0]\n",
    "        op_labels.append(lab)\n",
    "    return op_labels"
   ]
  },
  {
   "cell_type": "markdown",
   "metadata": {},
   "source": [
    "# Preparing Dataset For Training"
   ]
  },
  {
   "cell_type": "code",
   "execution_count": 23,
   "metadata": {
    "code_folding": []
   },
   "outputs": [],
   "source": [
    "#Loading the Data\n",
    "[X_train, X_test] = [training_data.drop('LABEL', axis=1), testing_data.drop('LABEL', axis=1)];\n",
    "[y_train, y_test] = [pd.DataFrame(training_data, columns=['LABEL']), pd.DataFrame(testing_data, columns=['LABEL'])]\n",
    "\n",
    "labelencoder = LabelEncoder()\n",
    "y_train['LABEL'] = labelencoder.fit_transform(y_train['LABEL'])\n",
    "y_test['LABEL'] = labelencoder.fit_transform(y_test['LABEL'])"
   ]
  },
  {
   "cell_type": "markdown",
   "metadata": {},
   "source": [
    "# Plotting Results"
   ]
  },
  {
   "cell_type": "code",
   "execution_count": 24,
   "metadata": {},
   "outputs": [
    {
     "data": {
      "image/png": "[encoded data removed]",
      "text/plain": [
       "<Figure size 432x288 with 1 Axes>"
      ]
     },
     "metadata": {
      "needs_background": "light"
     },
     "output_type": "display_data"
    }
   ],
   "source": [
    "# Setup arrays to store train and test accuracies\n",
    "neighbors = np.arange(1, 10)\n",
    "test_accuracy_euc = np.empty(len(neighbors))\n",
    "test_accuracy_cosine = np.empty(len(neighbors))\n",
    "\n",
    "# Loop over different values of k\n",
    "for i, k in enumerate(neighbors):\n",
    "    # Setup a k-NN Classifier with k neighbors: knn\n",
    "    y_pred = predict(X_train.to_numpy(), y_train.to_numpy(), X_test.to_numpy(), k, 1)\n",
    "    test_accuracy_euc[i] = accuracy_score(y_test, y_pred)\n",
    "\n",
    "for i, k in enumerate(neighbors):\n",
    "    # Setup a k-NN Classifier with k neighbors: knn\n",
    "    y_pred = predict(X_train.to_numpy(), y_train.to_numpy(), X_test.to_numpy(), k, 2)\n",
    "    test_accuracy_cosine[i] = accuracy_score(y_test, y_pred)\n",
    "\n",
    "# Generate plot\n",
    "plt.title('k-NN: Varying Number of Neighbors ')\n",
    "plt.plot(neighbors, test_accuracy_euc, label = 'Eucledian Distance Accuracy')\n",
    "plt.plot(neighbors, test_accuracy_cosine, label = 'Cosine Distance Accuracy')\n",
    "\n",
    "plt.legend()\n",
    "plt.xlabel('Number of Neighbors')\n",
    "plt.ylabel('Accuracy')\n",
    "plt.show()"
   ]
  }
 ],
 "metadata": {
  "kernelspec": {
   "display_name": "Python 3",
   "language": "python",
   "name": "python3"
  },
  "language_info": {
   "codemirror_mode": {
    "name": "ipython",
    "version": 3
   },
   "file_extension": ".py",
   "mimetype": "text/x-python",
   "name": "python",
   "nbconvert_exporter": "python",
   "pygments_lexer": "ipython3",
   "version": "3.7.6"
  }
 },
 "nbformat": 4,
 "nbformat_minor": 4
}
