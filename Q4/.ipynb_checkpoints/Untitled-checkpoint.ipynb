{
 "cells": [
  {
   "cell_type": "markdown",
   "metadata": {},
   "source": [
    "# Imports"
   ]
  },
  {
   "cell_type": "code",
   "execution_count": 61,
   "metadata": {},
   "outputs": [],
   "source": [
    "import numpy as np\n",
    "import matplotlib.pyplot as plt\n",
    "import codecs\n",
    "import nltk\n",
    "import pandas as pd\n",
    "#sklearn\n",
    "from sklearn.datasets import make_blobs\n",
    "from sklearn.model_selection import train_test_split\n",
    "from sklearn.metrics import accuracy_score\n",
    "from sklearn import svm\n",
    "from sklearn.feature_extraction.text import CountVectorizer\n",
    "from nltk.tokenize import word_tokenize\n",
    "from nltk.corpus import stopwords\n",
    "\n"
   ]
  },
  {
   "cell_type": "markdown",
   "metadata": {},
   "source": [
    "# Preprocessing( removing signs)"
   ]
  },
  {
   "cell_type": "code",
   "execution_count": 62,
   "metadata": {},
   "outputs": [
    {
     "data": {
      "text/html": [
       "<div>\n",
       "<style scoped>\n",
       "    .dataframe tbody tr th:only-of-type {\n",
       "        vertical-align: middle;\n",
       "    }\n",
       "\n",
       "    .dataframe tbody tr th {\n",
       "        vertical-align: top;\n",
       "    }\n",
       "\n",
       "    .dataframe thead th {\n",
       "        text-align: right;\n",
       "    }\n",
       "</style>\n",
       "<table border=\"1\" class=\"dataframe\">\n",
       "  <thead>\n",
       "    <tr style=\"text-align: right;\">\n",
       "      <th></th>\n",
       "      <th>X</th>\n",
       "      <th>Y</th>\n",
       "      <th>LABEL</th>\n",
       "    </tr>\n",
       "  </thead>\n",
       "  <tbody>\n",
       "    <tr>\n",
       "      <th>0</th>\n",
       "      <td>-0.095211</td>\n",
       "      <td>-0.063120</td>\n",
       "      <td>0</td>\n",
       "    </tr>\n",
       "    <tr>\n",
       "      <th>1</th>\n",
       "      <td>-0.125743</td>\n",
       "      <td>-0.054340</td>\n",
       "      <td>0</td>\n",
       "    </tr>\n",
       "    <tr>\n",
       "      <th>2</th>\n",
       "      <td>-0.013000</td>\n",
       "      <td>-0.036110</td>\n",
       "      <td>0</td>\n",
       "    </tr>\n",
       "    <tr>\n",
       "      <th>3</th>\n",
       "      <td>-0.054084</td>\n",
       "      <td>0.008387</td>\n",
       "      <td>0</td>\n",
       "    </tr>\n",
       "    <tr>\n",
       "      <th>4</th>\n",
       "      <td>0.091187</td>\n",
       "      <td>-0.101123</td>\n",
       "      <td>0</td>\n",
       "    </tr>\n",
       "    <tr>\n",
       "      <th>...</th>\n",
       "      <td>...</td>\n",
       "      <td>...</td>\n",
       "      <td>...</td>\n",
       "    </tr>\n",
       "    <tr>\n",
       "      <th>994</th>\n",
       "      <td>0.032838</td>\n",
       "      <td>-0.030358</td>\n",
       "      <td>0</td>\n",
       "    </tr>\n",
       "    <tr>\n",
       "      <th>995</th>\n",
       "      <td>0.004541</td>\n",
       "      <td>0.044294</td>\n",
       "      <td>0</td>\n",
       "    </tr>\n",
       "    <tr>\n",
       "      <th>996</th>\n",
       "      <td>0.120498</td>\n",
       "      <td>0.003275</td>\n",
       "      <td>0</td>\n",
       "    </tr>\n",
       "    <tr>\n",
       "      <th>997</th>\n",
       "      <td>0.159778</td>\n",
       "      <td>-0.008868</td>\n",
       "      <td>1</td>\n",
       "    </tr>\n",
       "    <tr>\n",
       "      <th>998</th>\n",
       "      <td>-0.058837</td>\n",
       "      <td>0.021150</td>\n",
       "      <td>0</td>\n",
       "    </tr>\n",
       "  </tbody>\n",
       "</table>\n",
       "<p>999 rows × 3 columns</p>\n",
       "</div>"
      ],
      "text/plain": [
       "            X         Y  LABEL\n",
       "0   -0.095211 -0.063120      0\n",
       "1   -0.125743 -0.054340      0\n",
       "2   -0.013000 -0.036110      0\n",
       "3   -0.054084  0.008387      0\n",
       "4    0.091187 -0.101123      0\n",
       "..        ...       ...    ...\n",
       "994  0.032838 -0.030358      0\n",
       "995  0.004541  0.044294      0\n",
       "996  0.120498  0.003275      0\n",
       "997  0.159778 -0.008868      1\n",
       "998 -0.058837  0.021150      0\n",
       "\n",
       "[999 rows x 3 columns]"
      ]
     },
     "execution_count": 62,
     "metadata": {},
     "output_type": "execute_result"
    }
   ],
   "source": [
    "file = \"./IMDB_review_labels.txt\"\n",
    "with codecs.open(file, \"r\", encoding='utf-8', errors=\"ignore\") as f:\n",
    "    text = f.read()\n",
    "    text = text.replace(',' ,' ').replace('.' ,' ').replace('-' ,' ').replace('\\r' ,' ').replace('&' ,' ').replace('#' ,' ').replace('\\t' ,' ').replace(\"'s\" ,' ').replace(')' ,' ').replace('(' ,' ').replace('.' ,' ')\n",
    "    data = text.split(\"\\n\")\n",
    "\n",
    "second_dataset = pd.read_csv(\"./binary_2d.csv\");\n",
    "second_dataset.columns = [\"X\", \"Y\", \"LABEL\"]\n",
    "second_dataset"
   ]
  },
  {
   "cell_type": "markdown",
   "metadata": {},
   "source": [
    "# Preprocess (removing stopwords)"
   ]
  },
  {
   "cell_type": "code",
   "execution_count": 63,
   "metadata": {},
   "outputs": [
    {
     "name": "stderr",
     "output_type": "stream",
     "text": [
      "[nltk_data] Downloading package stopwords to\n",
      "[nltk_data]     C:\\Users\\Sajad\\AppData\\Roaming\\nltk_data...\n",
      "[nltk_data]   Package stopwords is already up-to-date!\n"
     ]
    }
   ],
   "source": [
    "nltk.download('stopwords')\n",
    "def SW_remover(text):   \n",
    "    text_tokens = word_tokenize(text)\n",
    "    tokens_without_sw = [word for word in text_tokens if not word in stopwords.words()]\n",
    "    return '*'.join(tokens_without_sw);\n",
    "\n",
    "i = 0\n",
    "sizeofList = len(data) \n",
    "while i < sizeofList :\n",
    "    data[i] = SW_remover(data[i])\n",
    "    i += 1"
   ]
  },
  {
   "cell_type": "markdown",
   "metadata": {},
   "source": [
    "# Split And Preparing Dataset"
   ]
  },
  {
   "cell_type": "code",
   "execution_count": 64,
   "metadata": {},
   "outputs": [],
   "source": [
    "df = pd.DataFrame({'sents':data})\n",
    "df['class'] = df['sents'].str.split('|').str[1]\n",
    "df['sents'] = df['sents'].str.split('|').str[0]\n",
    "df = df.dropna()\n",
    "\n",
    "X = df['sents'] \n",
    "Y = df['class']\n",
    "X_train, X_test, y_train, y_test = train_test_split(X, Y, test_size= 0.2)\n",
    "\n",
    "sec_X = pd.DataFrame(second_dataset.drop('LABEL', axis=1))\n",
    "sec_Y = second_dataset['LABEL']\n",
    "sec_X_train, sec_X_test, sec_y_train, sec_y_test = train_test_split(sec_X, sec_Y, test_size= 0.2)\n",
    "\n"
   ]
  },
  {
   "cell_type": "markdown",
   "metadata": {},
   "source": [
    "# Calculate Frequency "
   ]
  },
  {
   "cell_type": "code",
   "execution_count": 65,
   "metadata": {},
   "outputs": [],
   "source": [
    "count_vec = CountVectorizer()\n",
    "counts = count_vec.fit_transform(X_train)\n"
   ]
  },
  {
   "cell_type": "markdown",
   "metadata": {},
   "source": [
    "# Training"
   ]
  },
  {
   "cell_type": "code",
   "execution_count": 66,
   "metadata": {},
   "outputs": [
    {
     "data": {
      "text/plain": [
       "SVC(C=1.0, break_ties=False, cache_size=200, class_weight=None, coef0=0.0,\n",
       "    decision_function_shape='ovr', degree=3, gamma='scale', kernel='linear',\n",
       "    max_iter=-1, probability=False, random_state=None, shrinking=True,\n",
       "    tol=0.001, verbose=False)"
      ]
     },
     "execution_count": 66,
     "metadata": {},
     "output_type": "execute_result"
    }
   ],
   "source": [
    "# Initialize SVM classifier for first dataset\n",
    "classifier = svm.SVC()\n",
    "classifier.fit(counts, y_train)\n",
    "\n",
    "# Initialize SVM leanier classifier for second dataset\n",
    "linear_classifier = svm.SVC(kernel='linear')\n",
    "linear_classifier.fit(sec_X_train, sec_y_train)"
   ]
  },
  {
   "cell_type": "markdown",
   "metadata": {},
   "source": [
    "# Calculate accuracy"
   ]
  },
  {
   "cell_type": "code",
   "execution_count": 69,
   "metadata": {},
   "outputs": [
    {
     "name": "stdout",
     "output_type": "stream",
     "text": [
      "IMDB training set accuracy = 96.875 %\n",
      "IMDB testing set accuracy = 80.5 %\n",
      "\n",
      "second training set accuracy = 93.4918648310388 %\n",
      "second testing set accuracy = 93.0 %\n"
     ]
    }
   ],
   "source": [
    "\n",
    "\n",
    "[training_set, testing_set] = [count_vec.transform(X_train), count_vec.transform(X_test)]\n",
    "predictions = [pd.Series(classifier.predict(training_set)), pd.Series(classifier.predict(testing_set))]\n",
    "accuracy = [accuracy_score(y_train, predictions[0]), accuracy_score(y_test, predictions[1])]\n",
    "\n",
    "\n",
    "sec_predictions = [pd.Series(linear_classifier.predict(sec_X_train)), pd.Series(linear_classifier.predict(sec_X_test))]\n",
    "sec_accuracy = [accuracy_score(sec_y_train, sec_predictions[0]), accuracy_score(sec_y_test, sec_predictions[1])]\n",
    "\n",
    "\n",
    "\n",
    "print(\"IMDB training set accuracy =\", accuracy[0]*100,\"%\") \n",
    "print(\"IMDB testing set accuracy =\", accuracy[1]*100,\"%\\n\") \n",
    "\n",
    "print(\"second training set accuracy =\", sec_accuracy[0]*100,\"%\") \n",
    "print(\"second testing set accuracy =\", sec_accuracy[1]*100,\"%\") "
   ]
  }
 ],
 "metadata": {
  "kernelspec": {
   "display_name": "Python 3",
   "language": "python",
   "name": "python3"
  },
  "language_info": {
   "codemirror_mode": {
    "name": "ipython",
    "version": 3
   },
   "file_extension": ".py",
   "mimetype": "text/x-python",
   "name": "python",
   "nbconvert_exporter": "python",
   "pygments_lexer": "ipython3",
   "version": "3.7.6"
  }
 },
 "nbformat": 4,
 "nbformat_minor": 4
}
