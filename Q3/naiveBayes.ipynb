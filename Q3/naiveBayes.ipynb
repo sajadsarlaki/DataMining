{
 "cells": [
  {
   "cell_type": "markdown",
   "metadata": {},
   "source": [
    "# Imports"
   ]
  },
  {
   "cell_type": "code",
   "execution_count": 20,
   "metadata": {},
   "outputs": [],
   "source": [
    "import numpy as np\n",
    "import codecs\n",
    "import nltk\n",
    "import pandas as pd\n",
    "import matplotlib.pyplot as plt\n",
    "import seaborn as sns\n",
    "#sklearn\n",
    "from sklearn.model_selection import train_test_split\n",
    "from sklearn.naive_bayes import GaussianNB\n",
    "from sklearn.metrics import accuracy_score\n",
    "from sklearn.naive_bayes import MultinomialNB\n",
    "from sklearn.metrics import accuracy_score\n",
    "from nltk.corpus import stopwords\n",
    "nltk.download('stopwords')\n",
    "from nltk.tokenize import word_tokenize\n",
    "from sklearn.feature_extraction.text import CountVectorizer\n"
   ]
  },
  {
   "cell_type": "markdown",
   "metadata": {},
   "source": [
    "# Preprossesing (removing all signs)"
   ]
  },
  {
   "cell_type": "code",
   "execution_count": 21,
   "metadata": {},
   "outputs": [],
   "source": [
    "file = \"./IMDB_review_labels.txt\"\n",
    "with codecs.open(file, \"r\", encoding='utf-8', errors=\"ignore\") as f:\n",
    "    text = f.read()\n",
    "    text = text.replace(',' ,' ').replace('.' ,' ').replace('-' ,' ').replace('\\r' ,' ').replace('&' ,' ').replace('#' ,' ').replace('\\t' ,' ').replace(\"'s\" ,' ').replace(')' ,' ').replace('(' ,' ').replace('.' ,' ')\n",
    "    data = text.split(\"\\n\")\n"
   ]
  },
  {
   "cell_type": "markdown",
   "metadata": {},
   "source": [
    "# Preprocess (removing stopwords)"
   ]
  },
  {
   "cell_type": "code",
   "execution_count": 22,
   "metadata": {},
   "outputs": [
    {
     "name": "stderr",
     "output_type": "stream",
     "text": [
      "[nltk_data] Downloading package stopwords to\n",
      "[nltk_data]     C:\\Users\\Sajad\\AppData\\Roaming\\nltk_data...\n",
      "[nltk_data]   Package stopwords is already up-to-date!\n"
     ]
    }
   ],
   "source": [
    "def SW_remover(text):   \n",
    "    text_tokens = word_tokenize(text)\n",
    "    tokens_without_sw = [word for word in text_tokens if not word in stopwords.words()]\n",
    "    return '*'.join(tokens_without_sw);\n",
    "\n",
    "i = 0\n",
    "sizeofList = len(data) \n",
    "while i < sizeofList :\n",
    "    data[i] = SW_remover(data[i])\n",
    "    i += 1"
   ]
  },
  {
   "cell_type": "markdown",
   "metadata": {},
   "source": [
    "# Split And Preparing Dataset"
   ]
  },
  {
   "cell_type": "code",
   "execution_count": 23,
   "metadata": {},
   "outputs": [],
   "source": [
    "df = pd.DataFrame({'sents':data})\n",
    "df['class'] = df['sents'].str.split('|').str[1]\n",
    "df['sents'] = df['sents'].str.split('|').str[0]\n",
    "df = df.dropna()\n",
    "\n",
    "X = df['sents'] \n",
    "Y = df['class']\n",
    "x_train, x_test, y_train, y_test = train_test_split(X, Y)"
   ]
  },
  {
   "cell_type": "markdown",
   "metadata": {},
   "source": [
    "# Calculate Frequency "
   ]
  },
  {
   "cell_type": "code",
   "execution_count": 24,
   "metadata": {},
   "outputs": [],
   "source": [
    "count_vec = CountVectorizer()\n",
    "bow_train = count_vec.fit_transform(x_train)\n",
    "counts = pd.DataFrame(bow_train.toarray(),\n",
    "                      columns=count_vec.get_feature_names())\n"
   ]
  },
  {
   "cell_type": "markdown",
   "metadata": {},
   "source": [
    "# Training "
   ]
  },
  {
   "cell_type": "code",
   "execution_count": 25,
   "metadata": {},
   "outputs": [
    {
     "data": {
      "text/plain": [
       "MultinomialNB(alpha=1.0, class_prior=None, fit_prior=True)"
      ]
     },
     "execution_count": 25,
     "metadata": {},
     "output_type": "execute_result"
    }
   ],
   "source": [
    "targets = y_train\n",
    "classifier = MultinomialNB()\n",
    "classifier.fit(counts, targets)"
   ]
  },
  {
   "cell_type": "markdown",
   "metadata": {},
   "source": [
    "# Calculate accuracy"
   ]
  },
  {
   "cell_type": "code",
   "execution_count": 30,
   "metadata": {},
   "outputs": [
    {
     "name": "stdout",
     "output_type": "stream",
     "text": [
      "training set accuracy = 96.93333333333334 %\n",
      "testing set accuracy = 76.0 %\n"
     ]
    }
   ],
   "source": [
    "[training_set, testing_set] = [count_vec.transform(x_train), count_vec.transform(x_test)]\n",
    "predictions = [pd.Series(classifier.predict(training_set)), pd.Series(classifier.predict(testing_set))]\n",
    "accuracy = [accuracy_score(y_train, predictions[0]), accuracy_score(y_test, predictions[1])]\n",
    "\n",
    "\n",
    "print(\"training set accuracy =\", accuracy[0]*100,\"%\") \n",
    "print(\"testing set accuracy =\", accuracy[1]*100,\"%\") "
   ]
  }
 ],
 "metadata": {
  "kernelspec": {
   "display_name": "Python 3",
   "language": "python",
   "name": "python3"
  },
  "language_info": {
   "codemirror_mode": {
    "name": "ipython",
    "version": 3
   },
   "file_extension": ".py",
   "mimetype": "text/x-python",
   "name": "python",
   "nbconvert_exporter": "python",
   "pygments_lexer": "ipython3",
   "version": "3.7.6"
  }
 },
 "nbformat": 4,
 "nbformat_minor": 4
}
